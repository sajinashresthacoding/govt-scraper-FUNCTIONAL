{
  "nbformat": 4,
  "nbformat_minor": 0,
  "metadata": {
    "colab": {
      "provenance": [],
      "include_colab_link": true
    },
    "kernelspec": {
      "name": "python3",
      "display_name": "Python 3"
    },
    "language_info": {
      "name": "python"
    }
  },
  "cells": [
    {
      "cell_type": "markdown",
      "metadata": {
        "id": "view-in-github",
        "colab_type": "text"
      },
      "source": [
        "<a href=\"https://colab.research.google.com/github/sajinashresthacoding/govt-scraper-FUNCTIONAL/blob/main/Module1_MAINCOPY.ipynb\" target=\"_parent\"><img src=\"https://colab.research.google.com/assets/colab-badge.svg\" alt=\"Open In Colab\"/></a>"
      ]
    },
    {
      "cell_type": "markdown",
      "source": [
        "# **Welcome to Module 1/Part 1!**\n",
        "\n",
        "\n",
        "---\n",
        "\n",
        "\n",
        "In this module we are\n",
        "*   Grabbing the video from a video hosting website\n",
        "*   Downloading it to our GoogleDrive as a mp3/wav/mp4 file.\n",
        "\n",
        "In this module: Instructions will be in green and there will be explanations for why we did every single line of code either in a cell before the code or in green comments within the code itself. This is so that you have an easy time following the code and also seeing why we are running a specific line of code.\n",
        "\n",
        "**Please DO NOT write on this file, make a copy in your own colab by going to file and clicking, \"Save a copy in drive\"**"
      ],
      "metadata": {
        "id": "cz0P2tgbzbEF"
      }
    },
    {
      "cell_type": "markdown",
      "source": [
        "## **run the following commands below**\n",
        "\n",
        "---\n",
        "\n",
        "\n",
        "\n",
        "#### **How do I \"run\" a command?**\n",
        "\n",
        "##### you go to the cell (the box surrounding the text) and press ctrl + enter together\n",
        "\n",
        "\n",
        "#### **What is a cell?**\n",
        "##### Think of it as a \"house\" where your code lives. Code cells will be in boxes. You will know a cell is a cell in this notebook because when you hover over the number in [] brackets, a play button will appear. You can also \"run\" a cell by pressing the play button!\n"
      ],
      "metadata": {
        "id": "_fz-K2mrywnb"
      }
    },
    {
      "cell_type": "code",
      "execution_count": null,
      "metadata": {
        "id": "KT1lBH7x2WqN",
        "colab": {
          "base_uri": "https://localhost:8080/"
        },
        "outputId": "b88383f6-fa86-441a-a3f9-a5ba2703bfe2"
      },
      "outputs": [
        {
          "output_type": "stream",
          "name": "stdout",
          "text": [
            "Requirement already satisfied: curl_cffi>=0.10 in /usr/local/lib/python3.11/dist-packages (0.11.4)\n",
            "Requirement already satisfied: cffi>=1.12.0 in /usr/local/lib/python3.11/dist-packages (from curl_cffi>=0.10) (1.17.1)\n",
            "Requirement already satisfied: certifi>=2024.2.2 in /usr/local/lib/python3.11/dist-packages (from curl_cffi>=0.10) (2025.6.15)\n",
            "Requirement already satisfied: pycparser in /usr/local/lib/python3.11/dist-packages (from cffi>=1.12.0->curl_cffi>=0.10) (2.22)\n"
          ]
        }
      ],
      "source": [
        "pip install \"curl_cffi>=0.10\""
      ]
    },
    {
      "cell_type": "code",
      "source": [
        "#now run this command to know what \"version\" of curl_cffi we have\n",
        "import curl_cffi\n",
        "print(\"curl_cffi version:\", curl_cffi.__version__)"
      ],
      "metadata": {
        "id": "P5FzIajv2rHe",
        "colab": {
          "base_uri": "https://localhost:8080/"
        },
        "outputId": "9956490a-6b8d-4578-d019-03d39b012373"
      },
      "execution_count": null,
      "outputs": [
        {
          "output_type": "stream",
          "name": "stdout",
          "text": [
            "curl_cffi version: 0.11.4\n"
          ]
        }
      ]
    },
    {
      "cell_type": "markdown",
      "source": [
        "### why did we \"pip install\" curl_cffi?\n",
        "\n",
        "*   we are importing curl_cffi since we are requesting a wesbite and we dont want to alarm it with \"bot activity\" this is a more stealthy way of making the request\n",
        "\n",
        "\n",
        "*   when running pip install, you don't want anything else written in the cell because then it won't run.\n",
        "\n",
        "\n",
        "---\n",
        "\n",
        "\n",
        "# Next step: run the yt-dlp cell below\n",
        "\n"
      ],
      "metadata": {
        "id": "yPLsjXj5yt6P"
      }
    },
    {
      "cell_type": "code",
      "source": [
        "pip install -U yt-dlp"
      ],
      "metadata": {
        "id": "GQSDfN872vOP",
        "colab": {
          "base_uri": "https://localhost:8080/"
        },
        "outputId": "f1d2d20a-e7eb-44d9-badd-fed379e2a663"
      },
      "execution_count": null,
      "outputs": [
        {
          "output_type": "stream",
          "name": "stdout",
          "text": [
            "Collecting yt-dlp\n",
            "  Downloading yt_dlp-2025.6.30-py3-none-any.whl.metadata (174 kB)\n",
            "\u001b[?25l     \u001b[90m━━━━━━━━━━━━━━━━━━━━━━━━━━━━━━━━━━━━━━━━\u001b[0m \u001b[32m0.0/174.3 kB\u001b[0m \u001b[31m?\u001b[0m eta \u001b[36m-:--:--\u001b[0m\r\u001b[2K     \u001b[91m━━━━━━━━━━━━━━━━━━━━━━━━━━━\u001b[0m\u001b[90m╺\u001b[0m\u001b[90m━━━━━━━━━━━\u001b[0m \u001b[32m122.9/174.3 kB\u001b[0m \u001b[31m4.2 MB/s\u001b[0m eta \u001b[36m0:00:01\u001b[0m\r\u001b[2K     \u001b[90m━━━━━━━━━━━━━━━━━━━━━━━━━━━━━━━━━━━━━━━\u001b[0m \u001b[32m174.3/174.3 kB\u001b[0m \u001b[31m3.4 MB/s\u001b[0m eta \u001b[36m0:00:00\u001b[0m\n",
            "\u001b[?25hDownloading yt_dlp-2025.6.30-py3-none-any.whl (3.3 MB)\n",
            "\u001b[?25l   \u001b[90m━━━━━━━━━━━━━━━━━━━━━━━━━━━━━━━━━━━━━━━━\u001b[0m \u001b[32m0.0/3.3 MB\u001b[0m \u001b[31m?\u001b[0m eta \u001b[36m-:--:--\u001b[0m\r\u001b[2K   \u001b[91m━━━━━━━━━━━━━━━━\u001b[0m\u001b[90m╺\u001b[0m\u001b[90m━━━━━━━━━━━━━━━━━━━━━━━\u001b[0m \u001b[32m1.4/3.3 MB\u001b[0m \u001b[31m44.9 MB/s\u001b[0m eta \u001b[36m0:00:01\u001b[0m\r\u001b[2K   \u001b[90m━━━━━━━━━━━━━━━━━━━━━━━━━━━━━━━━━━━━━━━━\u001b[0m \u001b[32m3.3/3.3 MB\u001b[0m \u001b[31m48.2 MB/s\u001b[0m eta \u001b[36m0:00:00\u001b[0m\n",
            "\u001b[?25hInstalling collected packages: yt-dlp\n",
            "Successfully installed yt-dlp-2025.6.30\n"
          ]
        }
      ]
    },
    {
      "cell_type": "markdown",
      "source": [
        "### why did we \"pip install\" yt-dlp?\n",
        "\n",
        "*   we are pipinstalling yt-dlp, because it is a popular program that downloads videos from video hosting sites like youtube and vimeo, etc.\n",
        "\n",
        "\n",
        "---\n",
        "\n",
        "\n",
        "# Next step: run the next cell below\n",
        "\n",
        "\n",
        "\n"
      ],
      "metadata": {
        "id": "d043OI021MPx"
      }
    },
    {
      "cell_type": "code",
      "source": [
        "pip install brotli pycryptodomex pyasn1 cryptography PySocks"
      ],
      "metadata": {
        "id": "A1A50UVv20zh",
        "colab": {
          "base_uri": "https://localhost:8080/"
        },
        "outputId": "2a700c68-3afd-464e-cb34-f629bddd6882"
      },
      "execution_count": null,
      "outputs": [
        {
          "output_type": "stream",
          "name": "stdout",
          "text": [
            "Collecting brotli\n",
            "  Downloading Brotli-1.1.0-cp311-cp311-manylinux_2_17_x86_64.manylinux2014_x86_64.whl.metadata (5.5 kB)\n",
            "Requirement already satisfied: pycryptodomex in /usr/local/lib/python3.11/dist-packages (3.23.0)\n",
            "Requirement already satisfied: pyasn1 in /usr/local/lib/python3.11/dist-packages (0.6.1)\n",
            "Requirement already satisfied: cryptography in /usr/local/lib/python3.11/dist-packages (43.0.3)\n",
            "Requirement already satisfied: PySocks in /usr/local/lib/python3.11/dist-packages (1.7.1)\n",
            "Requirement already satisfied: cffi>=1.12 in /usr/local/lib/python3.11/dist-packages (from cryptography) (1.17.1)\n",
            "Requirement already satisfied: pycparser in /usr/local/lib/python3.11/dist-packages (from cffi>=1.12->cryptography) (2.22)\n",
            "Downloading Brotli-1.1.0-cp311-cp311-manylinux_2_17_x86_64.manylinux2014_x86_64.whl (2.9 MB)\n",
            "\u001b[2K   \u001b[90m━━━━━━━━━━━━━━━━━━━━━━━━━━━━━━━━━━━━━━━━\u001b[0m \u001b[32m2.9/2.9 MB\u001b[0m \u001b[31m25.3 MB/s\u001b[0m eta \u001b[36m0:00:00\u001b[0m\n",
            "\u001b[?25hInstalling collected packages: brotli\n",
            "Successfully installed brotli-1.1.0\n"
          ]
        }
      ]
    },
    {
      "cell_type": "markdown",
      "source": [
        "# Why are we installing:\n",
        " installing brotli because most sites like google and vimeo are\n",
        "\n",
        "1.   Brotli: Most sites like google and vimeo are brotli-compressed, installing this will help us \"iuncompress\" them\n",
        "2.   Pyrocryptodomex: it helps us \"secure\" content and \"decrpyt\" the content\n",
        "3. pyasnl: another form of security, i believe?  \n",
        "4. Cryptography: it helps us to encrypt/decrypt, helps decode DRM-like decryption\n",
        "5. Pysocks: to help avoid ipblocks and geoblocks\n",
        "\n",
        "\n",
        "---\n",
        "\n",
        "#Next step: run the cell below, look for the \"green lines\" of explanation"
      ],
      "metadata": {
        "id": "Z-Zwu_N716ee"
      }
    },
    {
      "cell_type": "code",
      "source": [
        "#here you are connecting your google drive to your colab notebook. this way, you can give it direction on where to go to find specific files or where to store specific files on your drive itself.\n",
        "#this will ask you to give permission to access your files, give it permission\n",
        "from google.colab import drive\n",
        "drive.mount('/content/drive') #<- here you will be \"asked\" to log in to your google account, this is how you are \"mounting\" your drive to your colab notebook"
      ],
      "metadata": {
        "id": "Agtvz38z45sy",
        "colab": {
          "base_uri": "https://localhost:8080/",
          "height": 321
        },
        "outputId": "8e104f6a-9f57-44d8-c607-f255dc9d1342"
      },
      "execution_count": null,
      "outputs": [
        {
          "output_type": "error",
          "ename": "MessageError",
          "evalue": "Error: credential propagation was unsuccessful",
          "traceback": [
            "\u001b[0;31m---------------------------------------------------------------------------\u001b[0m",
            "\u001b[0;31mMessageError\u001b[0m                              Traceback (most recent call last)",
            "\u001b[0;32m/tmp/ipython-input-10-86906804.py\u001b[0m in \u001b[0;36m<cell line: 0>\u001b[0;34m()\u001b[0m\n\u001b[1;32m      2\u001b[0m \u001b[0;31m#this will ask you to give permission to access your files, give it permission\u001b[0m\u001b[0;34m\u001b[0m\u001b[0;34m\u001b[0m\u001b[0m\n\u001b[1;32m      3\u001b[0m \u001b[0;32mfrom\u001b[0m \u001b[0mgoogle\u001b[0m\u001b[0;34m.\u001b[0m\u001b[0mcolab\u001b[0m \u001b[0;32mimport\u001b[0m \u001b[0mdrive\u001b[0m\u001b[0;34m\u001b[0m\u001b[0;34m\u001b[0m\u001b[0m\n\u001b[0;32m----> 4\u001b[0;31m \u001b[0mdrive\u001b[0m\u001b[0;34m.\u001b[0m\u001b[0mmount\u001b[0m\u001b[0;34m(\u001b[0m\u001b[0;34m'/content/drive'\u001b[0m\u001b[0;34m)\u001b[0m \u001b[0;31m#<- here you will be \"asked\" to log in to your google account, this is how you are \"mounting\" your drive to your colab notebook\u001b[0m\u001b[0;34m\u001b[0m\u001b[0;34m\u001b[0m\u001b[0m\n\u001b[0m",
            "\u001b[0;32m/usr/local/lib/python3.11/dist-packages/google/colab/drive.py\u001b[0m in \u001b[0;36mmount\u001b[0;34m(mountpoint, force_remount, timeout_ms, readonly)\u001b[0m\n\u001b[1;32m     98\u001b[0m \u001b[0;32mdef\u001b[0m \u001b[0mmount\u001b[0m\u001b[0;34m(\u001b[0m\u001b[0mmountpoint\u001b[0m\u001b[0;34m,\u001b[0m \u001b[0mforce_remount\u001b[0m\u001b[0;34m=\u001b[0m\u001b[0;32mFalse\u001b[0m\u001b[0;34m,\u001b[0m \u001b[0mtimeout_ms\u001b[0m\u001b[0;34m=\u001b[0m\u001b[0;36m120000\u001b[0m\u001b[0;34m,\u001b[0m \u001b[0mreadonly\u001b[0m\u001b[0;34m=\u001b[0m\u001b[0;32mFalse\u001b[0m\u001b[0;34m)\u001b[0m\u001b[0;34m:\u001b[0m\u001b[0;34m\u001b[0m\u001b[0;34m\u001b[0m\u001b[0m\n\u001b[1;32m     99\u001b[0m   \u001b[0;34m\"\"\"Mount your Google Drive at the specified mountpoint path.\"\"\"\u001b[0m\u001b[0;34m\u001b[0m\u001b[0;34m\u001b[0m\u001b[0m\n\u001b[0;32m--> 100\u001b[0;31m   return _mount(\n\u001b[0m\u001b[1;32m    101\u001b[0m       \u001b[0mmountpoint\u001b[0m\u001b[0;34m,\u001b[0m\u001b[0;34m\u001b[0m\u001b[0;34m\u001b[0m\u001b[0m\n\u001b[1;32m    102\u001b[0m       \u001b[0mforce_remount\u001b[0m\u001b[0;34m=\u001b[0m\u001b[0mforce_remount\u001b[0m\u001b[0;34m,\u001b[0m\u001b[0;34m\u001b[0m\u001b[0;34m\u001b[0m\u001b[0m\n",
            "\u001b[0;32m/usr/local/lib/python3.11/dist-packages/google/colab/drive.py\u001b[0m in \u001b[0;36m_mount\u001b[0;34m(mountpoint, force_remount, timeout_ms, ephemeral, readonly)\u001b[0m\n\u001b[1;32m    135\u001b[0m   )\n\u001b[1;32m    136\u001b[0m   \u001b[0;32mif\u001b[0m \u001b[0mephemeral\u001b[0m\u001b[0;34m:\u001b[0m\u001b[0;34m\u001b[0m\u001b[0;34m\u001b[0m\u001b[0m\n\u001b[0;32m--> 137\u001b[0;31m     _message.blocking_request(\n\u001b[0m\u001b[1;32m    138\u001b[0m         \u001b[0;34m'request_auth'\u001b[0m\u001b[0;34m,\u001b[0m\u001b[0;34m\u001b[0m\u001b[0;34m\u001b[0m\u001b[0m\n\u001b[1;32m    139\u001b[0m         \u001b[0mrequest\u001b[0m\u001b[0;34m=\u001b[0m\u001b[0;34m{\u001b[0m\u001b[0;34m'authType'\u001b[0m\u001b[0;34m:\u001b[0m \u001b[0;34m'dfs_ephemeral'\u001b[0m\u001b[0;34m}\u001b[0m\u001b[0;34m,\u001b[0m\u001b[0;34m\u001b[0m\u001b[0;34m\u001b[0m\u001b[0m\n",
            "\u001b[0;32m/usr/local/lib/python3.11/dist-packages/google/colab/_message.py\u001b[0m in \u001b[0;36mblocking_request\u001b[0;34m(request_type, request, timeout_sec, parent)\u001b[0m\n\u001b[1;32m    174\u001b[0m       \u001b[0mrequest_type\u001b[0m\u001b[0;34m,\u001b[0m \u001b[0mrequest\u001b[0m\u001b[0;34m,\u001b[0m \u001b[0mparent\u001b[0m\u001b[0;34m=\u001b[0m\u001b[0mparent\u001b[0m\u001b[0;34m,\u001b[0m \u001b[0mexpect_reply\u001b[0m\u001b[0;34m=\u001b[0m\u001b[0;32mTrue\u001b[0m\u001b[0;34m\u001b[0m\u001b[0;34m\u001b[0m\u001b[0m\n\u001b[1;32m    175\u001b[0m   )\n\u001b[0;32m--> 176\u001b[0;31m   \u001b[0;32mreturn\u001b[0m \u001b[0mread_reply_from_input\u001b[0m\u001b[0;34m(\u001b[0m\u001b[0mrequest_id\u001b[0m\u001b[0;34m,\u001b[0m \u001b[0mtimeout_sec\u001b[0m\u001b[0;34m)\u001b[0m\u001b[0;34m\u001b[0m\u001b[0;34m\u001b[0m\u001b[0m\n\u001b[0m",
            "\u001b[0;32m/usr/local/lib/python3.11/dist-packages/google/colab/_message.py\u001b[0m in \u001b[0;36mread_reply_from_input\u001b[0;34m(message_id, timeout_sec)\u001b[0m\n\u001b[1;32m    101\u001b[0m     ):\n\u001b[1;32m    102\u001b[0m       \u001b[0;32mif\u001b[0m \u001b[0;34m'error'\u001b[0m \u001b[0;32min\u001b[0m \u001b[0mreply\u001b[0m\u001b[0;34m:\u001b[0m\u001b[0;34m\u001b[0m\u001b[0;34m\u001b[0m\u001b[0m\n\u001b[0;32m--> 103\u001b[0;31m         \u001b[0;32mraise\u001b[0m \u001b[0mMessageError\u001b[0m\u001b[0;34m(\u001b[0m\u001b[0mreply\u001b[0m\u001b[0;34m[\u001b[0m\u001b[0;34m'error'\u001b[0m\u001b[0;34m]\u001b[0m\u001b[0;34m)\u001b[0m\u001b[0;34m\u001b[0m\u001b[0;34m\u001b[0m\u001b[0m\n\u001b[0m\u001b[1;32m    104\u001b[0m       \u001b[0;32mreturn\u001b[0m \u001b[0mreply\u001b[0m\u001b[0;34m.\u001b[0m\u001b[0mget\u001b[0m\u001b[0;34m(\u001b[0m\u001b[0;34m'data'\u001b[0m\u001b[0;34m,\u001b[0m \u001b[0;32mNone\u001b[0m\u001b[0;34m)\u001b[0m\u001b[0;34m\u001b[0m\u001b[0;34m\u001b[0m\u001b[0m\n\u001b[1;32m    105\u001b[0m \u001b[0;34m\u001b[0m\u001b[0m\n",
            "\u001b[0;31mMessageError\u001b[0m: Error: credential propagation was unsuccessful"
          ]
        }
      ]
    },
    {
      "cell_type": "code",
      "source": [
        "#Now run this cell after you've put the url in \"put url here\" WITH  the quotations and the correct file name in \"put correct filename here\" WITH quotations and the correct file path to your drive\n",
        "#explanations for each line of code will be next to that code, if you need it\n",
        "import os #basically helps you to download and produce stuff internally within your computer?\n",
        "import subprocess #a process where you can run multiple external strings of commands instead of just manually one by one on the command line\n",
        "\n",
        "#Ensure output folder exists\n",
        "output_folder = \"put correctpath to audio here\" #identifying the folder you want to store it in\n",
        "os.makedirs(output_folder, exist_ok=True) #telling os where to store the data that you pull\n",
        "\n",
        "# Vimeo video URL\n",
        "url = \"put url here\"\n",
        "\n",
        "# Output file path template (yt-dlp fills in the extension)\n",
        "output_template = os.path.join(output_folder, \"putfilenamehere.%(ext)s\") #i like to do date of the video and the type like 060225_FlorenceCityCouncil\n",
        "\n",
        "# yt-dlp command to download audio only\n",
        "command = [\n",
        "    \"yt-dlp\",   #pulling the yt-downloader\n",
        "    \"--impersonate\", \"Chrome-131\", #making sure you are impersonating this browser when pulling this video\n",
        "    \"-f\", \"bestaudio\",             #telling the extractor that you want the best format of audio\n",
        "    \"-x\",                          #x for extracting\n",
        "    \"--audio-format\", \"wav\",       #the format of your audio, it is asking it to be downloaded in mp3 form\n",
        "    \"-o\", output_template,         #your output will be in the tempalte you passed earlier\n",
        "    url                            #the url you passed earlier\n",
        "]\n",
        "\n",
        "# Run the command\n",
        "subprocess.run(command, check=True) #now you run all of that at once"
      ],
      "metadata": {
        "id": "aPrxQ1E426AH"
      },
      "execution_count": null,
      "outputs": []
    },
    {
      "cell_type": "code",
      "source": [
        "import os\n",
        "\n",
        "for root, dirs, files in os.walk(\"/content/drive/MyDrive/LocalGovtData/MeetingsAudio\"):\n",
        "    for file in files:\n",
        "        print(file)"
      ],
      "metadata": {
        "id": "BA8V5n4F6mN9"
      },
      "execution_count": null,
      "outputs": []
    }
  ]
}