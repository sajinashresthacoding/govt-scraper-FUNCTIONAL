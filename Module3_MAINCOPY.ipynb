{
  "nbformat": 4,
  "nbformat_minor": 0,
  "metadata": {
    "colab": {
      "provenance": [],
      "include_colab_link": true
    },
    "kernelspec": {
      "name": "python3",
      "display_name": "Python 3"
    },
    "language_info": {
      "name": "python"
    }
  },
  "cells": [
    {
      "cell_type": "markdown",
      "metadata": {
        "id": "view-in-github",
        "colab_type": "text"
      },
      "source": [
        "<a href=\"https://colab.research.google.com/github/sajinashresthacoding/govt-scraper-FUNCTIONAL/blob/main/Module3_MAINCOPY.ipynb\" target=\"_parent\"><img src=\"https://colab.research.google.com/assets/colab-badge.svg\" alt=\"Open In Colab\"/></a>"
      ]
    },
    {
      "cell_type": "markdown",
      "source": [
        "# **Welcome to Module 3/Part 3!**\n",
        "\n",
        "\n",
        "---\n",
        "\n",
        "\n",
        "In this module we are\n",
        "*   Feeding the GeminiAI our transcript\n",
        "*   Downloading the output to our GoogleDrive.\n",
        "\n",
        "In this module: Instructions will be in green and there will be explanations for why we did every single line of code either in a cell before the code or in green comments within the code itself. This is so that you have an easy time following the code and also seeing why we are running a specific line of code.\n",
        "\n",
        "**Please DO NOT write on this file, make a copy by going to file and clicking, \"Save a copy in drive\"**"
      ],
      "metadata": {
        "id": "_qv7BmMENVIn"
      }
    },
    {
      "cell_type": "markdown",
      "source": [
        "Run the following cells below by hovering over the [   ]. A play button will appear, click on it. Please do it one by one, sequentially, not all at once."
      ],
      "metadata": {
        "id": "382tpFMkNo1v"
      }
    },
    {
      "cell_type": "code",
      "execution_count": null,
      "metadata": {
        "id": "mVfjeKqPG2dt"
      },
      "outputs": [],
      "source": [
        "pip install -q -U google-genai"
      ]
    },
    {
      "cell_type": "code",
      "source": [
        "pip install fpdf"
      ],
      "metadata": {
        "id": "tgNTxBlfHHsB"
      },
      "execution_count": null,
      "outputs": []
    },
    {
      "cell_type": "markdown",
      "source": [
        "#Why are we installing:\n",
        "1. google genai: it is the ai we will use to summarize the meeting transcript\n",
        "2. fpdf: it is what we will need to \"edit\" the transcript that the AI gives us\n",
        "\n",
        "---\n",
        "\n",
        "\n",
        "#Next step: run the cell below, look for the \"green lines\" of explanation"
      ],
      "metadata": {
        "id": "x967MMkTOG99"
      }
    },
    {
      "cell_type": "code",
      "source": [
        "#here you are connecting your google drive to your colab notebook. this way, you can give it direction on where to go to find specific files or where to store specific files on your drive itself.\n",
        "#this will ask you to give permission to access your files, give it full permission to klcc.colab account\n",
        "from google.colab import drive\n",
        "drive.mount('/content/drive') #<- here you will be \"asked\" to log in to your google account, this is how you are \"mounting\" your drive to your colab notebook"
      ],
      "metadata": {
        "id": "nxYOyeAIHcmp"
      },
      "execution_count": null,
      "outputs": []
    },
    {
      "cell_type": "code",
      "source": [
        "#Now run this cell after you've put the url in \"put url here\" WITH  the quotations and the correct key in \"API key goes here\" and the correct file name in \"put correct filename here\" WITH quotations in and the correct file path to your drive\n",
        "#Name your file in \"NAME YOUR FILE HERE\" location\n",
        "#explanations for each line of code will be next to that code, if you need it\n",
        "\n",
        "from google import genai #bringing in the genai\n",
        "from google.genai import types #bringing in types (files and contents) to categorise input/output for Genai\n",
        "import pathlib #easier way to find paths to your files internally, in a cleaner cross-platform way, same for the code line below\n",
        "from pathlib import Path\n",
        "from fpdf import FPDF #importing fpdf to create a new pdf file for output\n",
        "\n",
        "# Initialize the client\n",
        "client = genai.Client(api_key= \"API Key goes here\")\n",
        "\n",
        "# Update this to match the name of your local PDF file on your drive in the MeetingsTranscript folder\n",
        "local_pdf_name = \"put correct file name here.pdf\"\n",
        "\n",
        "# Get full path to where your transcript lives\n",
        "drive_pdf_path = Path(\"/content/drive/MyDrive/MeetingsTranscript/\"put filename here\".pdf\") #this should look something like this -> (\"/content/drive/MyDrive/MeetingsTranscript/060225Covallis_Council_Transcript.pdf\")\n",
        "\n",
        "# Upload the local PDF using the File API\n",
        "sample_file = client.files.upload(\n",
        "    file=drive_pdf_path,\n",
        ")\n",
        "\n",
        "# Prompt to summarize the document\n",
        "prompt = \"Read this council meeting transcript and give me a summary, 4 most important points made and the timestamps of when they were made, and 4 things a reporter covering this meeting should know with timestamps\" #you can change this transcript to whatever you want\n",
        "\n",
        "# Generate content using the Gemini model\n",
        "response = client.models.generate_content(\n",
        "    model=\"gemini-2.5-flash\",\n",
        "    contents=[sample_file, prompt]\n",
        ")\n",
        "\n",
        "# Print the result\n",
        "print(response.text)\n",
        "output_text = response.text\n",
        "output_text = output_text.encode('latin-1', errors='replace').decode('latin-1')\n",
        "\n",
        "# Save response as a new PDF\n",
        "output_pdf_path = Path(\"/content/drive/MyDrive/MeetingsSummary/\"NAME YOUR FILE HERE\".pdf\")\n",
        "\n",
        "pdf = FPDF()\n",
        "pdf.set_auto_page_break(auto=True, margin=15)\n",
        "pdf.add_page()\n",
        "pdf.set_font(\"arial\", size=12)\n",
        "\n",
        "# Write the main output text line by line\n",
        "for line in output_text.split('\\n'):\n",
        "    pdf.multi_cell(0, 10, line)\n",
        "\n",
        "pdf.output(str(output_pdf_path))\n",
        "\n",
        "print(f\"Formatted summary saved to: {output_pdf_path}\")"
      ],
      "metadata": {
        "id": "wjkxkN9eHsCN"
      },
      "execution_count": null,
      "outputs": []
    }
  ]
}