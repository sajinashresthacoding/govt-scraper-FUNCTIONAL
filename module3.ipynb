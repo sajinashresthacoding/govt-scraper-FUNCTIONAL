{
  "nbformat": 4,
  "nbformat_minor": 0,
  "metadata": {
    "colab": {
      "provenance": [],
      "authorship_tag": "ABX9TyOdOHck2TAl4d0AjB9rBUqR",
      "include_colab_link": true
    },
    "kernelspec": {
      "name": "python3",
      "display_name": "Python 3"
    },
    "language_info": {
      "name": "python"
    }
  },
  "cells": [
    {
      "cell_type": "markdown",
      "metadata": {
        "id": "view-in-github",
        "colab_type": "text"
      },
      "source": [
        "<a href=\"https://colab.research.google.com/github/sajinashresthacoding/govt-scraper-FUNCTIONAL/blob/main/module3.ipynb\" target=\"_parent\"><img src=\"https://colab.research.google.com/assets/colab-badge.svg\" alt=\"Open In Colab\"/></a>"
      ]
    },
    {
      "cell_type": "code",
      "execution_count": null,
      "metadata": {
        "colab": {
          "base_uri": "https://localhost:8080/"
        },
        "id": "mVfjeKqPG2dt",
        "outputId": "1e9aa0e0-d814-44f1-83dd-c637a1c998d2"
      },
      "outputs": [
        {
          "output_type": "stream",
          "name": "stdout",
          "text": [
            "\u001b[?25l   \u001b[90m━━━━━━━━━━━━━━━━━━━━━━━━━━━━━━━━━━━━━━━━\u001b[0m \u001b[32m0.0/223.8 kB\u001b[0m \u001b[31m?\u001b[0m eta \u001b[36m-:--:--\u001b[0m\r\u001b[2K   \u001b[91m━━━━━━━━━━━━━━━━━━━━━━━━━━━━━━━━━━━━━━\u001b[0m\u001b[90m╺\u001b[0m\u001b[90m━\u001b[0m \u001b[32m215.0/223.8 kB\u001b[0m \u001b[31m8.9 MB/s\u001b[0m eta \u001b[36m0:00:01\u001b[0m\r\u001b[2K   \u001b[90m━━━━━━━━━━━━━━━━━━━━━━━━━━━━━━━━━━━━━━━━\u001b[0m \u001b[32m223.8/223.8 kB\u001b[0m \u001b[31m5.9 MB/s\u001b[0m eta \u001b[36m0:00:00\u001b[0m\n",
            "\u001b[?25h"
          ]
        }
      ],
      "source": [
        "pip install -q -U google-genai"
      ]
    },
    {
      "cell_type": "code",
      "source": [
        "pip install fpdf"
      ],
      "metadata": {
        "colab": {
          "base_uri": "https://localhost:8080/"
        },
        "id": "tgNTxBlfHHsB",
        "outputId": "7b55d3a9-98c2-465e-d006-a14eec19e56e"
      },
      "execution_count": null,
      "outputs": [
        {
          "output_type": "stream",
          "name": "stdout",
          "text": [
            "Collecting fpdf\n",
            "  Downloading fpdf-1.7.2.tar.gz (39 kB)\n",
            "  Preparing metadata (setup.py) ... \u001b[?25l\u001b[?25hdone\n",
            "Building wheels for collected packages: fpdf\n",
            "  Building wheel for fpdf (setup.py) ... \u001b[?25l\u001b[?25hdone\n",
            "  Created wheel for fpdf: filename=fpdf-1.7.2-py2.py3-none-any.whl size=40704 sha256=01822003abc02c2d04763ef7cadb3cc2e23f618d448fc11ca1048dcdf6849b63\n",
            "  Stored in directory: /root/.cache/pip/wheels/65/4f/66/bbda9866da446a72e206d6484cd97381cbc7859a7068541c36\n",
            "Successfully built fpdf\n",
            "Installing collected packages: fpdf\n",
            "Successfully installed fpdf-1.7.2\n"
          ]
        }
      ]
    },
    {
      "cell_type": "code",
      "source": [
        "from google.colab import drive\n",
        "drive.mount('/content/drive')"
      ],
      "metadata": {
        "colab": {
          "base_uri": "https://localhost:8080/"
        },
        "id": "nxYOyeAIHcmp",
        "outputId": "655c047a-8ca8-4123-872c-33fdcc5dbd6c"
      },
      "execution_count": null,
      "outputs": [
        {
          "output_type": "stream",
          "name": "stdout",
          "text": [
            "Mounted at /content/drive\n"
          ]
        }
      ]
    },
    {
      "cell_type": "code",
      "source": [
        "from google import genai\n",
        "from google.genai import types\n",
        "import pathlib\n",
        "from pathlib import Path\n",
        "from fpdf import FPDF\n",
        "\n",
        "# Initialize the client\n",
        "client = genai.Client(api_key= \"insert-Key-here")\n",
        "\n",
        "# Update this to match the name of your local PDF file on your Desktop\n",
        "local_pdf_name = \"061625Corvallis_councilTranscript.pdf\"\n",
        "\n",
        "# Get full path to the desktop PDF file\n",
        "drive_pdf_path = Path(\"/content/drive/MyDrive/LocalGovtData/MeetingsTranscript/061625Corvallis_councilTranscript.pdf\")\n",
        "\n",
        "# Upload the local PDF using the File API\n",
        "sample_file = client.files.upload(\n",
        "    file=drive_pdf_path,\n",
        ")\n",
        "\n",
        "# Prompt to summarize the document\n",
        "prompt = \"Read this council meeting transcript and give me a summary, 4 most important points made and the timestamps of when they were made, and 4 things a reporter covering this meeting should know with timestamps\"\n",
        "\n",
        "# Generate content using the Gemini model\n",
        "response = client.models.generate_content(\n",
        "    model=\"gemini-2.5-flash\",\n",
        "    contents=[sample_file, prompt]\n",
        ")\n",
        "\n",
        "# Print the result\n",
        "print(response.text)\n",
        "output_text = response.text\n",
        "output_text = output_text.encode('latin-1', errors='replace').decode('latin-1')\n",
        "\n",
        "# Save response as a new PDF\n",
        "output_pdf_path = Path(\"/content/drive/MyDrive/LocalGovtData/MeetingsSummary/061625Corvallis_councilSummary.pdf\")\n",
        "\n",
        "pdf = FPDF()\n",
        "pdf.set_auto_page_break(auto=True, margin=15)\n",
        "pdf.add_page()\n",
        "pdf.set_font(\"arial\", size=12)\n",
        "\n",
        "# Write the main output text line by line\n",
        "for line in output_text.split('\\n'):\n",
        "    pdf.multi_cell(0, 10, line)\n",
        "\n",
        "pdf.output(str(output_pdf_path))\n",
        "\n",
        "print(f\"Formatted summary saved to: {output_pdf_path}\")"
      ],
      "metadata": {
        "colab": {
          "base_uri": "https://localhost:8080/"
        },
        "id": "wjkxkN9eHsCN",
        "outputId": "a1d96bc3-932f-43bc-ab3a-d25d0b63bc0a"
      },
      "execution_count": null,
      "outputs": [
        {
          "output_type": "stream",
          "name": "stdout",
          "text": [
            "Okay, here's a summary of the Corvallis City Council meeting based on the provided text, along with the most important points and details a reporter should know.\n",
            "\n",
            "**Important Note Regarding Timestamps:** The provided document is a *summary* of a meeting and **does not contain any timestamps** for when specific points were made. Therefore, I will indicate the *section* where the information can be found in the document instead of a timestamp.\n",
            "\n",
            "---\n",
            "\n",
            "### Meeting Summary\n",
            "\n",
            "The Corvallis City Council convened on June 16, 2025, with all members present, to address several significant community issues. Key actions included the unanimous approval of a zoning amendment for a mixed-use development, strengthening the Tree Preservation Ordinance (6-1 vote), authorizing a grant application for a new community arts center, and directing staff to prepare a report on homeless shelter options. Public comment highlighted community concerns regarding affordable housing, transportation, and downtown development impacts. The meeting concluded after routine updates, with the council's discussions consistently aiming to balance community needs, environmental responsibilities, and sustainable development.\n",
            "\n",
            "---\n",
            "\n",
            "### 4 Most Important Points Made (with Location in Text)\n",
            "\n",
            "1.  **Zoning Amendment Approved for Mixed-Use Development:** The Council unanimously approved a proposed Zoning Amendment (Ordinance No. 2025-XX) to rezone a commercial parcel for mixed-use development, allowing for a new multi-story residential building with ground-floor retail.\n",
            "    *   **Location in Text:** \"Key Highlights\" section, \"Zoning Amendment Approved (Multi-Use Development)\" subsection.\n",
            "\n",
            "2.  **Tree Preservation Ordinance Strengthened:** The Council approved Ordinance No. 2025-YY by a 6-1 vote, strengthening protections for mature trees by requiring permits for removal and mandating replanting.\n",
            "    *   **Location in Text:** \"Key Highlights\" section, \"Tree Preservation Ordinance Strengthened\" subsection.\n",
            "\n",
            "3.  **Community Arts Center Grant Application Authorized:** Resolution No. 2025-ZZ was unanimously approved, authorizing the submission of a grant application for state funding to establish a new community arts center.\n",
            "    *   **Location in Text:** \"Key Highlights\" section, \"Community Arts Center Grant Application Authorized\" subsection.\n",
            "\n",
            "4.  **Homeless Shelter Options to be Explored:** The Council unanimously approved a motion directing staff to prepare a comprehensive report on options for a new homeless shelter, in response to the growing unhoused population.\n",
            "    *   **Location in Text:** \"Key Highlights\" section, \"**Homeless Shelter Options to be Explored**\" subsection.\n",
            "\n",
            "---\n",
            "\n",
            "### 4 Things a Reporter Covering This Meeting Should Know (with Location in Text)\n",
            "\n",
            "1.  **Significant Development Approved Despite Community Concerns:** The unanimous approval of the Zoning Amendment for mixed-use development is a major news item, especially given the mention of a public hearing that \"balanced the need for housing with community concerns about traffic, parking, and neighborhood character.\" A reporter should investigate the specifics of Ordinance No. 2025-XX, the developer, and the nature of the public concerns.\n",
            "    *   **Location in Text:** \"Key Highlights\" section, \"Zoning Amendment Approved (Multi-Use Development)\" subsection.\n",
            "\n",
            "2.  **Council Shows Commitment to Environmental Stewardship (with a Dissenting Vote):** The strengthening of the Tree Preservation Ordinance by a 6-1 vote indicates strong council support for environmental protection, but the single dissenting vote (Ordinance No. 2025-YY) is noteworthy. A reporter should try to identify the dissenting council member and their reasons, as well as the specific new requirements for tree removal and replanting.\n",
            "    *   **Location in Text:** \"Key Highlights\" section, \"Tree Preservation Ordinance Strengthened\" subsection.\n",
            "\n",
            "3.  **Future Focus on Homelessness and Arts/Culture:** The unanimous approval to explore homeless shelter options and authorize a grant for a community arts center signals two major areas of future city focus and potential investment. A reporter should follow up on the timeline for the homeless shelter report and the progress of the arts center grant application.\n",
            "    *   **Location in Text:** \"Key Highlights\" section, \"**Homeless Shelter Options to be Explored**\" and \"Community Arts Center Grant Application Authorized\" subsections.\n",
            "\n",
            "4.  **Key Community Concerns Highlighted by Public Comment:** The public comment section revealed crucial concerns about affordable housing, rising rents, public transportation, bicycle infrastructure, and the impact of downtown development on local businesses and historical preservation. These are ongoing community issues that could be central to future council debates and are ripe for deeper reporting.\n",
            "    *   **Location in Text:** \"Key Highlights\" section, \"Public Comment\" subsection.\n",
            "Formatted summary saved to: /content/drive/MyDrive/LocalGovtData/MeetingsSummary/061625Corvallis_councilSummary.pdf\n"
          ]
        }
      ]
    }
  ]
}
